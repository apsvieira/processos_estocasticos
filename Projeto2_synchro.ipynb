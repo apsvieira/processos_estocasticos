{
 "cells": [
  {
   "cell_type": "code",
   "execution_count": 1,
   "metadata": {},
   "outputs": [],
   "source": [
    "import numpy as np\n",
    "import matplotlib.pyplot as plt"
   ]
  },
  {
   "cell_type": "code",
   "execution_count": 2,
   "metadata": {},
   "outputs": [],
   "source": [
    "%matplotlib inline"
   ]
  },
  {
   "cell_type": "markdown",
   "metadata": {},
   "source": [
    "Considere um canal de comunicações cuja entrada é um sinal $x[k]$ e cuja saída é um sinal $r[k] = x[k-\\delta] + n[k]$. Ou seja, a saída é uma versão ruidosa e atrasada da entrada. Seu objetivo aqui é determinar o valor do atraso $\\delta$.\n",
    "\n",
    "Para isso, vamos fazer algumas hipóteses. O sinal transmitido será composto de 10 valores consecutivos iguas a 1, sendo o restante igual a zero."
   ]
  },
  {
   "cell_type": "code",
   "execution_count": 3,
   "metadata": {},
   "outputs": [
    {
     "data": {
      "text/plain": [
       "<StemContainer object of 3 artists>"
      ]
     },
     "execution_count": 3,
     "metadata": {},
     "output_type": "execute_result"
    },
    {
     "data": {
      "image/png": "[encoded data removed]",
      "text/plain": [
       "<Figure size 432x288 with 1 Axes>"
      ]
     },
     "metadata": {},
     "output_type": "display_data"
    }
   ],
   "source": [
    "x = np.ones(10)\n",
    "plt.stem(x)"
   ]
  },
  {
   "cell_type": "markdown",
   "metadata": {},
   "source": [
    "A segunda hipótese é que o atraso é aleatório, sendo modelado como uma variável aleatória uniformemente distribuída entre 0 e 100 amostras."
   ]
  },
  {
   "cell_type": "code",
   "execution_count": 4,
   "metadata": {},
   "outputs": [
    {
     "name": "stdout",
     "output_type": "stream",
     "text": [
      "21\n"
     ]
    }
   ],
   "source": [
    "d = np.random.randint(0, 100 + 1)\n",
    "print(d)"
   ]
  },
  {
   "cell_type": "markdown",
   "metadata": {},
   "source": [
    "Finalmente, vamos assumir que o ruído é normal, com média zero e variância $\\sigma^2$, independente e identicamente distruído.\n",
    "\n",
    "Observe que, como o atraso varia de 1 a cem amostras, é necessário observar uma janela 111 amostras do sinal recebido para termos certeza de que o sinal x foi observado dentro da janela."
   ]
  },
  {
   "cell_type": "code",
   "execution_count": 5,
   "metadata": {},
   "outputs": [
    {
     "data": {
      "text/plain": [
       "<StemContainer object of 3 artists>"
      ]
     },
     "execution_count": 5,
     "metadata": {},
     "output_type": "execute_result"
    },
    {
     "data": {
      "image/png": "[encoded data removed]",
      "text/plain": [
       "<Figure size 432x288 with 1 Axes>"
      ]
     },
     "metadata": {},
     "output_type": "display_data"
    }
   ],
   "source": [
    "sigma = .5\n",
    "r = sigma*np.random.randn(111)\n",
    "r[d:(d+10)] += x\n",
    "plt.stem(r)"
   ]
  },
  {
   "cell_type": "markdown",
   "metadata": {},
   "source": [
    "Para determinar o atraso, você vai usar uma estratégia chamada máximo a posteriori: o valor de $\\delta$ é aquele que é o mais provável no mundo em que o sinal $r[k]$ é observado. Para facilitar nossa notação, seja $\\mathbf{r}$ um vetor contendo todas as 111 amostras de $r[k]$. Assim, o valor de $\\delta$ será dado por\n",
    "$$\\delta_{\\mathrm{ótimo}} = \\arg\\max_{\\delta} p_{\\Delta|\\mathbf{R}}(\\delta|\\mathbf{r})$$\n",
    "\n",
    "Determine e implemente este detector. Busque fazer o maior número possível de simplificações. Você verá que existem diversas probabilidades e diversas funções que não precisam ser calculadas.\n",
    "\n",
    "Imagine agora que o valor de $\\delta$ seja 10. Calcule analiticamente e por simulação a probabilidade de seu detector ''preferir'' o valor de $\\delta = 11$ ao invés do valor correto. Ou seja, calcule a probabilidade de $$p_{\\Delta|\\mathbf{R}}(11|\\mathbf{R}) \\gt p_{\\Delta|\\mathbf{R}}(10|\\mathbf{R})$$"
   ]
  },
  {
   "cell_type": "markdown",
   "metadata": {},
   "source": [
    "## Resolução"
   ]
  },
  {
   "cell_type": "markdown",
   "metadata": {},
   "source": [
    "Queremos calcular $\\zeta_{0}$ tal que\n",
    "\n",
    "$$ \\zeta_{0} = \\arg\\max_{\\zeta} p_{\\mathcal{Z}|\\mathbf{R}}(\\zeta|\\mathbf{r}) = \n",
    "\\arg\\max_{\\zeta} \\frac{f_{\\mathbf{R}|\\mathcal{Z}}(\\mathbf{r}|\\zeta)p(\\zeta)}{{f(\\mathbf{r})}}  $$\n",
    "\n",
    "Para isso, sabemos que $p_{\\mathcal{Z}}(\\zeta) = \\frac{1}{101}$ e temos que, dado $\\zeta$ e definindo $\\delta_{\\zeta}^{\\theta}$\n",
    "como o trem de impulsos de comprimento $\\theta$ começando na posição $\\zeta$:\n",
    "\n",
    "$$ f_{\\mathbf{R}|\\mathcal{Z}}(\\mathbf{r}|\\zeta) = f_{N(0, \\sigma^2)}(\\mathbf{r} - \\delta_{\\zeta}^{\\theta}|\\zeta)$$\n",
    "\n",
    "Sabemos ainda que $f_{\\mathbf{R}}(\\mathbf{r})$ é invariante em $\\zeta$, de modo que pode ser ignorado durante a escolha do valor ótimo\n",
    "de $\\zeta$. Como todas as amostras do ruído gaussiano são independentes e unicamente distribuídas, o processo é, então, equivalente a escolher\n",
    "\n",
    "$$\\zeta_{0} = \\arg\\max_{\\zeta} f_{\\mathbf{R}|\\mathcal{Z}}(\\mathbf{r}|\\zeta) \n",
    "            = \\arg\\max_{\\zeta} \\prod_{i=0}^{110} f_{N(0, \\sigma^2)}(\\mathbf{r}[i] - \\delta_{\\zeta}^{\\theta}[i])\n",
    "            = \\arg\\min_{\\zeta} \\sum_{i=0}^{110} (\\mathbf{r}[i] - \\delta_{\\zeta}^{\\theta}[i])$$\n",
    "\n"
   ]
  },
  {
   "cell_type": "code",
   "execution_count": 17,
   "metadata": {},
   "outputs": [],
   "source": [
    "def find_delay(noisy_signal, noise_cardinality, signal_length, signal=None):\n",
    "    if signal is None:\n",
    "        signal = np.ones(signal_length)\n",
    "    min_arg = np.inf\n",
    "    opt_zeta = None\n",
    "\n",
    "    for zeta in range(0, noise_cardinality - 1):\n",
    "        s = noisy_signal.copy()\n",
    "        s[zeta:zeta + train_len] -= signal\n",
    "        arg = np.square(s).sum()\n",
    "        opt_zeta = zeta if arg < min_arg else opt_zeta\n",
    "        min_arg = arg if arg < min_arg else min_arg\n",
    "    return opt_zeta"
   ]
  },
  {
   "cell_type": "code",
   "execution_count": 60,
   "metadata": {},
   "outputs": [
    {
     "name": "stdout",
     "output_type": "stream",
     "text": [
      "Delay: 74\n",
      "Delay encontrado 74\n",
      "Delay certo: True\n"
     ]
    }
   ],
   "source": [
    "card_delta = 100\n",
    "train_len = 10\n",
    "sigma = .5\n",
    "\n",
    "d = np.random.randint(0, card_delta + 1)\n",
    "r = sigma*np.random.randn(card_delta + train_len)\n",
    "r[d:(d+train_len)] += np.ones(train_len)\n",
    "\n",
    "zeta = find_delay(r, card_delta, train_len)\n",
    "\n",
    "print(\"Delay:\", d)\n",
    "print(\"Delay encontrado\", zeta)\n",
    "print(\"Delay certo:\", d == zeta)"
   ]
  },
  {
   "cell_type": "code",
   "execution_count": 79,
   "metadata": {},
   "outputs": [],
   "source": [
    "num_trials = 1000000 # 1 Mi\n",
    "count_error_by_one_above = 0\n",
    "count_correct = 0\n",
    "for _ in range(num_trials):\n",
    "    args = []\n",
    "    for zeta in range(0, card_delta - 1):\n",
    "        s = r.copy()\n",
    "        s[zeta:zeta + train_len] -= np.ones(10)\n",
    "        arg = np.square(s).sum()\n",
    "        args.append(arg)\n",
    "    zeta = np.argmin(args)\n",
    "    count_error_by_one_above += zeta == d\n",
    "    count_correct += zeta == d"
   ]
  },
  {
   "cell_type": "code",
   "execution_count": 80,
   "metadata": {},
   "outputs": [],
   "source": [
    "est_p_one_above = count_error_by_one_above / num_trials\n",
    "est_p_correct = count_correct / num_trials"
   ]
  },
  {
   "cell_type": "code",
   "execution_count": 81,
   "metadata": {},
   "outputs": [
    {
     "name": "stdout",
     "output_type": "stream",
     "text": [
      "Número de acertos: 815197/1000000 (0.0%)\n",
      "Número de erros com uma amostra para cima de confusão: 0/1000000 (0.0%)\n"
     ]
    }
   ],
   "source": [
    "print(\"Número de acertos: {}/{} ({}%)\".format(count_correct,\n",
    "                                              num_trials,\n",
    "                                              count_correct/num_trials * 100))\n",
    "print(\"Número de erros com uma amostra para cima de confusão: {}/{} ({}%)\".format(\n",
    "    count_error_by_one_above, num_trials, count_error_by_one_above/num_trials * 100)\n",
    ")"
   ]
  },
  {
   "cell_type": "code",
   "execution_count": 83,
   "metadata": {},
   "outputs": [
    {
     "data": {
      "text/plain": [
       "0"
      ]
     },
     "execution_count": 83,
     "metadata": {},
     "output_type": "execute_result"
    }
   ],
   "source": [
    "count_correct"
   ]
  }
 ],
 "metadata": {
  "kernelspec": {
   "display_name": "Python 3",
   "language": "python",
   "name": "python3"
  },
  "language_info": {
   "codemirror_mode": {
    "name": "ipython",
    "version": 3
   },
   "file_extension": ".py",
   "mimetype": "text/x-python",
   "name": "python",
   "nbconvert_exporter": "python",
   "pygments_lexer": "ipython3",
   "version": "3.6.5"
  }
 },
 "nbformat": 4,
 "nbformat_minor": 2
}
