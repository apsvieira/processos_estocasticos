{
 "cells": [
  {
   "cell_type": "code",
   "execution_count": 1,
   "metadata": {},
   "outputs": [],
   "source": [
    "import numpy as np\n",
    "import matplotlib.pyplot as plt\n",
    "plt.style.use('fivethirtyeight')"
   ]
  },
  {
   "cell_type": "code",
   "execution_count": 2,
   "metadata": {},
   "outputs": [],
   "source": [
    "# Problem data definition\n",
    "num_squares = 100\n",
    "num_sides = 6\n",
    "start_pos = 0\n",
    "num_rounds = 100"
   ]
  },
  {
   "cell_type": "markdown",
   "metadata": {},
   "source": [
    "### The transition matrix for a naive game\n",
    "If there were no snakes and no ladders, a player would only be able to land in a position 1 to 6 squares away from his initial position, always going forward. We can define the initial transition matrix for the game with that thinking. \n",
    "\n",
    "We'll also add one state to the initial hundred: the starting point, outside of the board, represented by state 0."
   ]
  },
  {
   "cell_type": "code",
   "execution_count": 3,
   "metadata": {},
   "outputs": [],
   "source": [
    "# Transition matrix for the game's initial state\n",
    "init_probs = np.zeros(shape=(num_squares + 1, num_squares + 1))\n",
    "for init_pos in range(0, num_squares):\n",
    "    init_probs[init_pos, init_pos + 1 : init_pos + num_sides + 1] = 1 / num_sides\n",
    "\n",
    "init_probs[:, -1] = 0.0\n",
    "init_probs[-(num_sides + 1):, -1] = 1 - init_probs[-(num_sides + 1):, :-1].sum(axis=1)"
   ]
  },
  {
   "cell_type": "markdown",
   "metadata": {},
   "source": [
    "### Snakes and Ladders themselves\n",
    "The snakes and ladders defined will be a list of tuples with a starting position and an ending position."
   ]
  },
  {
   "cell_type": "code",
   "execution_count": 4,
   "metadata": {},
   "outputs": [],
   "source": [
    "s_n_l = [\n",
    "    (1, 38), (4, 14), (9, 31), (21, 42), (28, 84), (36, 44),\n",
    "    (51, 67), (71, 91), (80, 100), (16, 6), (48, 26), (49, 11),\n",
    "    (56, 53), (62, 19), (64, 60), (87, 24), (93, 73), (95, 75), (98, 78)\n",
    "]"
   ]
  },
  {
   "cell_type": "markdown",
   "metadata": {},
   "source": [
    "### The new transition matrix\n",
    "What the snakes and ladders effectively do is redirect the transition probability of the squares they link. Whenever you land on the starting stage on one of those, you "
   ]
  },
  {
   "cell_type": "code",
   "execution_count": 5,
   "metadata": {},
   "outputs": [],
   "source": [
    "probs = init_probs\n",
    "for start, end in s_n_l:\n",
    "    probs[:, end] += probs[:, start]\n",
    "    probs[:, start] = 0"
   ]
  },
  {
   "cell_type": "markdown",
   "metadata": {},
   "source": [
    "### A peek into the matrix\n",
    "Here is what this final transition matrix looks like for the state 0."
   ]
  },
  {
   "cell_type": "code",
   "execution_count": 6,
   "metadata": {},
   "outputs": [
    {
     "data": {
      "text/plain": [
       "array([0.        , 0.        , 0.16666667, 0.16666667, 0.        ,\n",
       "       0.16666667, 0.16666667, 0.        , 0.        , 0.        ,\n",
       "       0.        , 0.        , 0.        , 0.        , 0.16666667,\n",
       "       0.        , 0.        , 0.        , 0.        , 0.        ,\n",
       "       0.        , 0.        , 0.        , 0.        , 0.        ,\n",
       "       0.        , 0.        , 0.        , 0.        , 0.        ,\n",
       "       0.        , 0.        , 0.        , 0.        , 0.        ,\n",
       "       0.        , 0.        , 0.        , 0.16666667, 0.        ,\n",
       "       0.        , 0.        , 0.        , 0.        , 0.        ,\n",
       "       0.        , 0.        , 0.        , 0.        , 0.        ,\n",
       "       0.        , 0.        , 0.        , 0.        , 0.        ,\n",
       "       0.        , 0.        , 0.        , 0.        , 0.        ,\n",
       "       0.        , 0.        , 0.        , 0.        , 0.        ,\n",
       "       0.        , 0.        , 0.        , 0.        , 0.        ,\n",
       "       0.        , 0.        , 0.        , 0.        , 0.        ,\n",
       "       0.        , 0.        , 0.        , 0.        , 0.        ,\n",
       "       0.        , 0.        , 0.        , 0.        , 0.        ,\n",
       "       0.        , 0.        , 0.        , 0.        , 0.        ,\n",
       "       0.        , 0.        , 0.        , 0.        , 0.        ,\n",
       "       0.        , 0.        , 0.        , 0.        , 0.        ,\n",
       "       0.        ])"
      ]
     },
     "execution_count": 6,
     "metadata": {},
     "output_type": "execute_result"
    }
   ],
   "source": [
    "probs[0]"
   ]
  },
  {
   "cell_type": "markdown",
   "metadata": {},
   "source": [
    "Which just means that starting from state 0 and playing one round, we have $\\frac{1}{6}$ probability of being in states 2, 3, 5, 6, 14 and 38, with a 0 probability of being anywhere else."
   ]
  },
  {
   "cell_type": "markdown",
   "metadata": {},
   "source": [
    "### Making these reusable\n",
    "Just tossing everything into a function."
   ]
  },
  {
   "cell_type": "code",
   "execution_count": 7,
   "metadata": {},
   "outputs": [],
   "source": [
    "def get_snl_transition_matrix(snakes_and_ladders, num_squares=100, num_sides=6):\n",
    "    # Transition matrix for the naive game\n",
    "    init_probs = np.zeros(shape=(num_squares + 1, num_squares + 1))\n",
    "    for init_pos in range(0, num_squares): # REVIEW\n",
    "        init_probs[init_pos, init_pos + 1 : init_pos + num_sides + 1] = 1 / num_sides\n",
    "\n",
    "    init_probs[:, -1] = 0.0\n",
    "    init_probs[-(num_sides + 1):, -1] = 1 - init_probs[-(num_sides + 1):, :-1].sum(axis=1)\n",
    "\n",
    "    # Applying the effects of having the snakes and ladders to the transition matrix\n",
    "    probs = init_probs\n",
    "    for start, end in snakes_and_ladders:\n",
    "        probs[:, end] += probs[:, start]\n",
    "        probs[:, start] = 0\n",
    "    \n",
    "    assert np.allclose(probs.sum(axis=1), 1), \"Oops, these should've been epsilon-close to 1!\"\n",
    "    \n",
    "    return probs"
   ]
  },
  {
   "cell_type": "code",
   "execution_count": 8,
   "metadata": {},
   "outputs": [],
   "source": [
    "def get_win_prob(transition_matrix, rounds=1, initial_position=0):\n",
    "    return np.linalg.matrix_power(transition_matrix, rounds)[initial_position, -1]"
   ]
  },
  {
   "cell_type": "code",
   "execution_count": 9,
   "metadata": {},
   "outputs": [],
   "source": [
    "T = get_snl_transition_matrix(s_n_l, num_squares, num_sides)"
   ]
  },
  {
   "cell_type": "code",
   "execution_count": 13,
   "metadata": {},
   "outputs": [
    {
     "data": {
      "text/plain": [
       "array([0.        , 0.        , 0.        , 0.        , 0.        ,\n",
       "       0.        , 0.04771091, 0.01015947, 0.01170267, 0.        ,\n",
       "       0.01414609, 0.03613683, 0.02713477, 0.02481996, 0.0317644 ,\n",
       "       0.03858025, 0.        , 0.04385288, 0.04295267, 0.04179527,\n",
       "       0.03858025, 0.        , 0.02443416, 0.02726337, 0.02456276,\n",
       "       0.01877572, 0.03896605, 0.01903292, 0.        , 0.01838992,\n",
       "       0.01671811, 0.02893519, 0.01658951, 0.01208848, 0.01221708,\n",
       "       0.0149177 , 0.        , 0.0151749 , 0.01401749, 0.01350309,\n",
       "       0.01273148, 0.01118827, 0.04256687, 0.01350309, 0.02816358,\n",
       "       0.0153035 , 0.01671811, 0.01929012, 0.        , 0.        ,\n",
       "       0.0163323 , 0.        , 0.01093107, 0.01376029, 0.00501543,\n",
       "       0.00514403, 0.        , 0.00231481, 0.00231481, 0.00102881,\n",
       "       0.0002572 , 0.0001286 , 0.        , 0.        , 0.        ,\n",
       "       0.        , 0.        , 0.01388889, 0.00205761, 0.00205761,\n",
       "       0.00205761, 0.        , 0.00205761, 0.00205761, 0.        ,\n",
       "       0.        , 0.        , 0.        , 0.        , 0.        ,\n",
       "       0.        , 0.        , 0.        , 0.        , 0.02121914,\n",
       "       0.00218621, 0.00218621, 0.        , 0.00218621, 0.00218621,\n",
       "       0.00218621, 0.00205761, 0.        , 0.        , 0.        ,\n",
       "       0.        , 0.        , 0.        , 0.        , 0.        ,\n",
       "       0.        ])"
      ]
     },
     "execution_count": 13,
     "metadata": {},
     "output_type": "execute_result"
    }
   ],
   "source": [
    "np.linalg.matrix_power(T, 5)[0]"
   ]
  },
  {
   "cell_type": "code",
   "execution_count": null,
   "metadata": {},
   "outputs": [],
   "source": [
    "p_win_after_n_rounds = np.asarray([get_win_prob(T, n, start_pos) for n in range (1, num_rounds)])\n",
    "p_win_specific_round = np.diff(p_win_after_n_rounds)"
   ]
  },
  {
   "cell_type": "code",
   "execution_count": null,
   "metadata": {},
   "outputs": [],
   "source": [
    "np.linalg.matrix_power(T, 5)[0]"
   ]
  },
  {
   "cell_type": "code",
   "execution_count": null,
   "metadata": {},
   "outputs": [],
   "source": [
    "p_win_after_n_rounds"
   ]
  },
  {
   "cell_type": "code",
   "execution_count": null,
   "metadata": {},
   "outputs": [],
   "source": [
    "plt.plot(p_win_after_n_rounds)\n",
    "plt.xlabel('Number of Rounds played')\n",
    "plt.ylabel('Probability')\n",
    "plt.title('Probability of having won the game after N rounds')"
   ]
  },
  {
   "cell_type": "code",
   "execution_count": null,
   "metadata": {},
   "outputs": [],
   "source": [
    "plt.plot(p_win_specific_round)\n",
    "plt.xlabel('Round')\n",
    "plt.ylabel('Probability')\n",
    "plt.title('Probability of winning the game in a specific round')"
   ]
  },
  {
   "cell_type": "code",
   "execution_count": null,
   "metadata": {},
   "outputs": [],
   "source": []
  }
 ],
 "metadata": {
  "kernelspec": {
   "display_name": "Python 3",
   "language": "python",
   "name": "python3"
  },
  "language_info": {
   "codemirror_mode": {
    "name": "ipython",
    "version": 3
   },
   "file_extension": ".py",
   "mimetype": "text/x-python",
   "name": "python",
   "nbconvert_exporter": "python",
   "pygments_lexer": "ipython3",
   "version": "3.6.5"
  }
 },
 "nbformat": 4,
 "nbformat_minor": 2
}
